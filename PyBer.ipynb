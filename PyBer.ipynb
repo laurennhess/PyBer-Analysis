{
 "cells": [
  {
   "cell_type": "code",
   "execution_count": 71,
   "id": "b7b7f011",
   "metadata": {},
   "outputs": [],
   "source": [
    "%matplotlib inline\n",
    "\n",
    "import matplotlib.pyplot as plt\n",
    "import pandas as pd"
   ]
  },
  {
   "cell_type": "code",
   "execution_count": 72,
   "id": "a0fe7f33",
   "metadata": {},
   "outputs": [
    {
     "data": {
      "text/html": [
       "<div>\n",
       "<style scoped>\n",
       "    .dataframe tbody tr th:only-of-type {\n",
       "        vertical-align: middle;\n",
       "    }\n",
       "\n",
       "    .dataframe tbody tr th {\n",
       "        vertical-align: top;\n",
       "    }\n",
       "\n",
       "    .dataframe thead th {\n",
       "        text-align: right;\n",
       "    }\n",
       "</style>\n",
       "<table border=\"1\" class=\"dataframe\">\n",
       "  <thead>\n",
       "    <tr style=\"text-align: right;\">\n",
       "      <th></th>\n",
       "      <th>city</th>\n",
       "      <th>driver_count</th>\n",
       "      <th>type</th>\n",
       "    </tr>\n",
       "  </thead>\n",
       "  <tbody>\n",
       "    <tr>\n",
       "      <th>0</th>\n",
       "      <td>Richardfort</td>\n",
       "      <td>38</td>\n",
       "      <td>Urban</td>\n",
       "    </tr>\n",
       "    <tr>\n",
       "      <th>1</th>\n",
       "      <td>Williamsstad</td>\n",
       "      <td>59</td>\n",
       "      <td>Urban</td>\n",
       "    </tr>\n",
       "    <tr>\n",
       "      <th>2</th>\n",
       "      <td>Port Angela</td>\n",
       "      <td>67</td>\n",
       "      <td>Urban</td>\n",
       "    </tr>\n",
       "    <tr>\n",
       "      <th>3</th>\n",
       "      <td>Rodneyfort</td>\n",
       "      <td>34</td>\n",
       "      <td>Urban</td>\n",
       "    </tr>\n",
       "    <tr>\n",
       "      <th>4</th>\n",
       "      <td>West Robert</td>\n",
       "      <td>39</td>\n",
       "      <td>Urban</td>\n",
       "    </tr>\n",
       "    <tr>\n",
       "      <th>5</th>\n",
       "      <td>West Anthony</td>\n",
       "      <td>70</td>\n",
       "      <td>Urban</td>\n",
       "    </tr>\n",
       "    <tr>\n",
       "      <th>6</th>\n",
       "      <td>West Angela</td>\n",
       "      <td>48</td>\n",
       "      <td>Urban</td>\n",
       "    </tr>\n",
       "    <tr>\n",
       "      <th>7</th>\n",
       "      <td>Martinezhaven</td>\n",
       "      <td>25</td>\n",
       "      <td>Urban</td>\n",
       "    </tr>\n",
       "    <tr>\n",
       "      <th>8</th>\n",
       "      <td>Karenberg</td>\n",
       "      <td>22</td>\n",
       "      <td>Urban</td>\n",
       "    </tr>\n",
       "    <tr>\n",
       "      <th>9</th>\n",
       "      <td>Barajasview</td>\n",
       "      <td>26</td>\n",
       "      <td>Urban</td>\n",
       "    </tr>\n",
       "  </tbody>\n",
       "</table>\n",
       "</div>"
      ],
      "text/plain": [
       "            city  driver_count   type\n",
       "0    Richardfort            38  Urban\n",
       "1   Williamsstad            59  Urban\n",
       "2    Port Angela            67  Urban\n",
       "3     Rodneyfort            34  Urban\n",
       "4    West Robert            39  Urban\n",
       "5   West Anthony            70  Urban\n",
       "6    West Angela            48  Urban\n",
       "7  Martinezhaven            25  Urban\n",
       "8      Karenberg            22  Urban\n",
       "9    Barajasview            26  Urban"
      ]
     },
     "execution_count": 72,
     "metadata": {},
     "output_type": "execute_result"
    }
   ],
   "source": [
    "city_data_df = pd.read_csv(\"Resources/city_data.csv\")\n",
    "city_data_df.head(10)"
   ]
  },
  {
   "cell_type": "code",
   "execution_count": 73,
   "id": "7c216bee",
   "metadata": {},
   "outputs": [
    {
     "data": {
      "text/html": [
       "<div>\n",
       "<style scoped>\n",
       "    .dataframe tbody tr th:only-of-type {\n",
       "        vertical-align: middle;\n",
       "    }\n",
       "\n",
       "    .dataframe tbody tr th {\n",
       "        vertical-align: top;\n",
       "    }\n",
       "\n",
       "    .dataframe thead th {\n",
       "        text-align: right;\n",
       "    }\n",
       "</style>\n",
       "<table border=\"1\" class=\"dataframe\">\n",
       "  <thead>\n",
       "    <tr style=\"text-align: right;\">\n",
       "      <th></th>\n",
       "      <th>city</th>\n",
       "      <th>date</th>\n",
       "      <th>fare</th>\n",
       "      <th>ride_id</th>\n",
       "    </tr>\n",
       "  </thead>\n",
       "  <tbody>\n",
       "    <tr>\n",
       "      <th>0</th>\n",
       "      <td>Lake Jonathanshire</td>\n",
       "      <td>2019-01-14 10:14:22</td>\n",
       "      <td>13.83</td>\n",
       "      <td>5739410935873</td>\n",
       "    </tr>\n",
       "    <tr>\n",
       "      <th>1</th>\n",
       "      <td>South Michelleport</td>\n",
       "      <td>2019-03-04 18:24:09</td>\n",
       "      <td>30.24</td>\n",
       "      <td>2343912425577</td>\n",
       "    </tr>\n",
       "    <tr>\n",
       "      <th>2</th>\n",
       "      <td>Port Samanthamouth</td>\n",
       "      <td>2019-02-24 04:29:00</td>\n",
       "      <td>33.44</td>\n",
       "      <td>2005065760003</td>\n",
       "    </tr>\n",
       "    <tr>\n",
       "      <th>3</th>\n",
       "      <td>Rodneyfort</td>\n",
       "      <td>2019-02-10 23:22:03</td>\n",
       "      <td>23.44</td>\n",
       "      <td>5149245426178</td>\n",
       "    </tr>\n",
       "    <tr>\n",
       "      <th>4</th>\n",
       "      <td>South Jack</td>\n",
       "      <td>2019-03-06 04:28:35</td>\n",
       "      <td>34.58</td>\n",
       "      <td>3908451377344</td>\n",
       "    </tr>\n",
       "    <tr>\n",
       "      <th>5</th>\n",
       "      <td>South Latoya</td>\n",
       "      <td>2019-03-11 12:26:48</td>\n",
       "      <td>9.52</td>\n",
       "      <td>1994999424437</td>\n",
       "    </tr>\n",
       "    <tr>\n",
       "      <th>6</th>\n",
       "      <td>New Paulville</td>\n",
       "      <td>2019-02-27 11:17:56</td>\n",
       "      <td>43.25</td>\n",
       "      <td>793208410091</td>\n",
       "    </tr>\n",
       "    <tr>\n",
       "      <th>7</th>\n",
       "      <td>Simpsonburgh</td>\n",
       "      <td>2019-04-26 00:43:24</td>\n",
       "      <td>35.98</td>\n",
       "      <td>111953927754</td>\n",
       "    </tr>\n",
       "    <tr>\n",
       "      <th>8</th>\n",
       "      <td>South Karenland</td>\n",
       "      <td>2019-01-08 03:28:48</td>\n",
       "      <td>35.09</td>\n",
       "      <td>7995623208694</td>\n",
       "    </tr>\n",
       "    <tr>\n",
       "      <th>9</th>\n",
       "      <td>North Jasmine</td>\n",
       "      <td>2019-03-09 06:26:29</td>\n",
       "      <td>42.81</td>\n",
       "      <td>5327642267789</td>\n",
       "    </tr>\n",
       "  </tbody>\n",
       "</table>\n",
       "</div>"
      ],
      "text/plain": [
       "                 city                 date   fare        ride_id\n",
       "0  Lake Jonathanshire  2019-01-14 10:14:22  13.83  5739410935873\n",
       "1  South Michelleport  2019-03-04 18:24:09  30.24  2343912425577\n",
       "2  Port Samanthamouth  2019-02-24 04:29:00  33.44  2005065760003\n",
       "3          Rodneyfort  2019-02-10 23:22:03  23.44  5149245426178\n",
       "4          South Jack  2019-03-06 04:28:35  34.58  3908451377344\n",
       "5        South Latoya  2019-03-11 12:26:48   9.52  1994999424437\n",
       "6       New Paulville  2019-02-27 11:17:56  43.25   793208410091\n",
       "7        Simpsonburgh  2019-04-26 00:43:24  35.98   111953927754\n",
       "8     South Karenland  2019-01-08 03:28:48  35.09  7995623208694\n",
       "9       North Jasmine  2019-03-09 06:26:29  42.81  5327642267789"
      ]
     },
     "execution_count": 73,
     "metadata": {},
     "output_type": "execute_result"
    }
   ],
   "source": [
    "ride_data_df = pd.read_csv(\"Resources/ride_data.csv\")\n",
    "ride_data_df.head(10)"
   ]
  },
  {
   "cell_type": "code",
   "execution_count": 74,
   "id": "8e2f3151",
   "metadata": {},
   "outputs": [
    {
     "data": {
      "text/plain": [
       "city            120\n",
       "driver_count    120\n",
       "type            120\n",
       "dtype: int64"
      ]
     },
     "execution_count": 74,
     "metadata": {},
     "output_type": "execute_result"
    }
   ],
   "source": [
    "city_data_df.count()"
   ]
  },
  {
   "cell_type": "code",
   "execution_count": 75,
   "id": "cbbef15a",
   "metadata": {},
   "outputs": [
    {
     "data": {
      "text/plain": [
       "city            0\n",
       "driver_count    0\n",
       "type            0\n",
       "dtype: int64"
      ]
     },
     "execution_count": 75,
     "metadata": {},
     "output_type": "execute_result"
    }
   ],
   "source": [
    "city_data_df.isnull().sum()"
   ]
  },
  {
   "cell_type": "code",
   "execution_count": 76,
   "id": "63b59eec",
   "metadata": {},
   "outputs": [
    {
     "data": {
      "text/plain": [
       "city            object\n",
       "driver_count     int64\n",
       "type            object\n",
       "dtype: object"
      ]
     },
     "execution_count": 76,
     "metadata": {},
     "output_type": "execute_result"
    }
   ],
   "source": [
    "city_data_df.dtypes"
   ]
  },
  {
   "cell_type": "code",
   "execution_count": 77,
   "id": "e925d452",
   "metadata": {},
   "outputs": [
    {
     "data": {
      "text/plain": [
       "array(['Urban', 'Suburban', 'Rural'], dtype=object)"
      ]
     },
     "execution_count": 77,
     "metadata": {},
     "output_type": "execute_result"
    }
   ],
   "source": [
    "# Unique values of each city \n",
    "city_data_df[\"type\"].unique()"
   ]
  },
  {
   "cell_type": "code",
   "execution_count": 78,
   "id": "1a2c8489",
   "metadata": {},
   "outputs": [
    {
     "data": {
      "text/plain": [
       "66"
      ]
     },
     "execution_count": 78,
     "metadata": {},
     "output_type": "execute_result"
    }
   ],
   "source": [
    "sum(city_data_df[\"type\"] == \"Urban\")"
   ]
  },
  {
   "cell_type": "code",
   "execution_count": 79,
   "id": "36b14512",
   "metadata": {},
   "outputs": [
    {
     "data": {
      "text/plain": [
       "36"
      ]
     },
     "execution_count": 79,
     "metadata": {},
     "output_type": "execute_result"
    }
   ],
   "source": [
    "sum(city_data_df[\"type\"] == \"Suburban\")"
   ]
  },
  {
   "cell_type": "code",
   "execution_count": 80,
   "id": "07fec593",
   "metadata": {},
   "outputs": [
    {
     "data": {
      "text/plain": [
       "18"
      ]
     },
     "execution_count": 80,
     "metadata": {},
     "output_type": "execute_result"
    }
   ],
   "source": [
    "sum(city_data_df[\"type\"] == \"Rural\")"
   ]
  },
  {
   "cell_type": "code",
   "execution_count": 81,
   "id": "b4530a26",
   "metadata": {},
   "outputs": [
    {
     "data": {
      "text/plain": [
       "city       2375\n",
       "date       2375\n",
       "fare       2375\n",
       "ride_id    2375\n",
       "dtype: int64"
      ]
     },
     "execution_count": 81,
     "metadata": {},
     "output_type": "execute_result"
    }
   ],
   "source": [
    "ride_data_df.count()"
   ]
  },
  {
   "cell_type": "code",
   "execution_count": 82,
   "id": "bb2041c2",
   "metadata": {},
   "outputs": [
    {
     "data": {
      "text/plain": [
       "city       0\n",
       "date       0\n",
       "fare       0\n",
       "ride_id    0\n",
       "dtype: int64"
      ]
     },
     "execution_count": 82,
     "metadata": {},
     "output_type": "execute_result"
    }
   ],
   "source": [
    "ride_data_df.isnull().sum()"
   ]
  },
  {
   "cell_type": "code",
   "execution_count": 83,
   "id": "ff5a8da9",
   "metadata": {},
   "outputs": [
    {
     "data": {
      "text/plain": [
       "city        object\n",
       "date        object\n",
       "fare       float64\n",
       "ride_id      int64\n",
       "dtype: object"
      ]
     },
     "execution_count": 83,
     "metadata": {},
     "output_type": "execute_result"
    }
   ],
   "source": [
    "ride_data_df.dtypes"
   ]
  },
  {
   "cell_type": "code",
   "execution_count": 84,
   "id": "b2f0d10e",
   "metadata": {},
   "outputs": [
    {
     "data": {
      "text/html": [
       "<div>\n",
       "<style scoped>\n",
       "    .dataframe tbody tr th:only-of-type {\n",
       "        vertical-align: middle;\n",
       "    }\n",
       "\n",
       "    .dataframe tbody tr th {\n",
       "        vertical-align: top;\n",
       "    }\n",
       "\n",
       "    .dataframe thead th {\n",
       "        text-align: right;\n",
       "    }\n",
       "</style>\n",
       "<table border=\"1\" class=\"dataframe\">\n",
       "  <thead>\n",
       "    <tr style=\"text-align: right;\">\n",
       "      <th></th>\n",
       "      <th>city</th>\n",
       "      <th>driver_count</th>\n",
       "      <th>type</th>\n",
       "      <th>date</th>\n",
       "      <th>fare</th>\n",
       "      <th>ride_id</th>\n",
       "    </tr>\n",
       "  </thead>\n",
       "  <tbody>\n",
       "    <tr>\n",
       "      <th>0</th>\n",
       "      <td>Richardfort</td>\n",
       "      <td>38</td>\n",
       "      <td>Urban</td>\n",
       "      <td>2019-02-24 08:40:38</td>\n",
       "      <td>13.93</td>\n",
       "      <td>5628545007794</td>\n",
       "    </tr>\n",
       "    <tr>\n",
       "      <th>1</th>\n",
       "      <td>Richardfort</td>\n",
       "      <td>38</td>\n",
       "      <td>Urban</td>\n",
       "      <td>2019-02-13 12:46:07</td>\n",
       "      <td>14.00</td>\n",
       "      <td>910050116494</td>\n",
       "    </tr>\n",
       "    <tr>\n",
       "      <th>2</th>\n",
       "      <td>Richardfort</td>\n",
       "      <td>38</td>\n",
       "      <td>Urban</td>\n",
       "      <td>2019-02-16 13:52:19</td>\n",
       "      <td>17.92</td>\n",
       "      <td>820639054416</td>\n",
       "    </tr>\n",
       "    <tr>\n",
       "      <th>3</th>\n",
       "      <td>Richardfort</td>\n",
       "      <td>38</td>\n",
       "      <td>Urban</td>\n",
       "      <td>2019-02-01 20:18:28</td>\n",
       "      <td>10.26</td>\n",
       "      <td>9554935945413</td>\n",
       "    </tr>\n",
       "    <tr>\n",
       "      <th>4</th>\n",
       "      <td>Richardfort</td>\n",
       "      <td>38</td>\n",
       "      <td>Urban</td>\n",
       "      <td>2019-04-17 02:26:37</td>\n",
       "      <td>23.00</td>\n",
       "      <td>720020655850</td>\n",
       "    </tr>\n",
       "    <tr>\n",
       "      <th>...</th>\n",
       "      <td>...</td>\n",
       "      <td>...</td>\n",
       "      <td>...</td>\n",
       "      <td>...</td>\n",
       "      <td>...</td>\n",
       "      <td>...</td>\n",
       "    </tr>\n",
       "    <tr>\n",
       "      <th>2370</th>\n",
       "      <td>Jessicaport</td>\n",
       "      <td>1</td>\n",
       "      <td>Rural</td>\n",
       "      <td>2019-01-31 17:57:25</td>\n",
       "      <td>58.29</td>\n",
       "      <td>623154556195</td>\n",
       "    </tr>\n",
       "    <tr>\n",
       "      <th>2371</th>\n",
       "      <td>South Saramouth</td>\n",
       "      <td>7</td>\n",
       "      <td>Rural</td>\n",
       "      <td>2019-02-20 16:32:36</td>\n",
       "      <td>44.29</td>\n",
       "      <td>3622365199969</td>\n",
       "    </tr>\n",
       "    <tr>\n",
       "      <th>2372</th>\n",
       "      <td>South Saramouth</td>\n",
       "      <td>7</td>\n",
       "      <td>Rural</td>\n",
       "      <td>2019-01-28 15:55:33</td>\n",
       "      <td>31.25</td>\n",
       "      <td>7118046558393</td>\n",
       "    </tr>\n",
       "    <tr>\n",
       "      <th>2373</th>\n",
       "      <td>South Saramouth</td>\n",
       "      <td>7</td>\n",
       "      <td>Rural</td>\n",
       "      <td>2019-03-27 21:07:16</td>\n",
       "      <td>11.87</td>\n",
       "      <td>170351888128</td>\n",
       "    </tr>\n",
       "    <tr>\n",
       "      <th>2374</th>\n",
       "      <td>South Saramouth</td>\n",
       "      <td>7</td>\n",
       "      <td>Rural</td>\n",
       "      <td>2019-04-12 18:11:50</td>\n",
       "      <td>57.23</td>\n",
       "      <td>5081198789583</td>\n",
       "    </tr>\n",
       "  </tbody>\n",
       "</table>\n",
       "<p>2375 rows × 6 columns</p>\n",
       "</div>"
      ],
      "text/plain": [
       "                 city  driver_count   type                 date   fare  \\\n",
       "0         Richardfort            38  Urban  2019-02-24 08:40:38  13.93   \n",
       "1         Richardfort            38  Urban  2019-02-13 12:46:07  14.00   \n",
       "2         Richardfort            38  Urban  2019-02-16 13:52:19  17.92   \n",
       "3         Richardfort            38  Urban  2019-02-01 20:18:28  10.26   \n",
       "4         Richardfort            38  Urban  2019-04-17 02:26:37  23.00   \n",
       "...               ...           ...    ...                  ...    ...   \n",
       "2370      Jessicaport             1  Rural  2019-01-31 17:57:25  58.29   \n",
       "2371  South Saramouth             7  Rural  2019-02-20 16:32:36  44.29   \n",
       "2372  South Saramouth             7  Rural  2019-01-28 15:55:33  31.25   \n",
       "2373  South Saramouth             7  Rural  2019-03-27 21:07:16  11.87   \n",
       "2374  South Saramouth             7  Rural  2019-04-12 18:11:50  57.23   \n",
       "\n",
       "            ride_id  \n",
       "0     5628545007794  \n",
       "1      910050116494  \n",
       "2      820639054416  \n",
       "3     9554935945413  \n",
       "4      720020655850  \n",
       "...             ...  \n",
       "2370   623154556195  \n",
       "2371  3622365199969  \n",
       "2372  7118046558393  \n",
       "2373   170351888128  \n",
       "2374  5081198789583  \n",
       "\n",
       "[2375 rows x 6 columns]"
      ]
     },
     "execution_count": 84,
     "metadata": {},
     "output_type": "execute_result"
    }
   ],
   "source": [
    "# Merge the DataFrames\n",
    "pyber_data_df = pd.merge(city_data_df, ride_data_df, how = \"left\",\n",
    "                         on = [\"city\", \"city\"])\n",
    "pyber_data_df"
   ]
  },
  {
   "cell_type": "code",
   "execution_count": 85,
   "id": "825c3fe8",
   "metadata": {},
   "outputs": [],
   "source": [
    "average_fare = pyber_data_df.groupby([\"type\"]).mean()[\"fare\"]\n",
    "ride_total = pyber_data_df.count()[\"ride_id\"]\n",
    "average_drive_count = pyber_data_df.groupby([\"type\"]).mean()[\"driver_count\"]"
   ]
  },
  {
   "cell_type": "code",
   "execution_count": 86,
   "id": "87780797",
   "metadata": {},
   "outputs": [
    {
     "data": {
      "text/html": [
       "<div>\n",
       "<style scoped>\n",
       "    .dataframe tbody tr th:only-of-type {\n",
       "        vertical-align: middle;\n",
       "    }\n",
       "\n",
       "    .dataframe tbody tr th {\n",
       "        vertical-align: top;\n",
       "    }\n",
       "\n",
       "    .dataframe thead th {\n",
       "        text-align: right;\n",
       "    }\n",
       "</style>\n",
       "<table border=\"1\" class=\"dataframe\">\n",
       "  <thead>\n",
       "    <tr style=\"text-align: right;\">\n",
       "      <th></th>\n",
       "      <th>city</th>\n",
       "      <th>driver_count</th>\n",
       "      <th>type</th>\n",
       "      <th>date</th>\n",
       "      <th>fare</th>\n",
       "      <th>ride_id</th>\n",
       "    </tr>\n",
       "  </thead>\n",
       "  <tbody>\n",
       "    <tr>\n",
       "      <th>0</th>\n",
       "      <td>Richardfort</td>\n",
       "      <td>38</td>\n",
       "      <td>Urban</td>\n",
       "      <td>2019-02-24 08:40:38</td>\n",
       "      <td>13.93</td>\n",
       "      <td>5628545007794</td>\n",
       "    </tr>\n",
       "    <tr>\n",
       "      <th>1</th>\n",
       "      <td>Richardfort</td>\n",
       "      <td>38</td>\n",
       "      <td>Urban</td>\n",
       "      <td>2019-02-13 12:46:07</td>\n",
       "      <td>14.00</td>\n",
       "      <td>910050116494</td>\n",
       "    </tr>\n",
       "    <tr>\n",
       "      <th>2</th>\n",
       "      <td>Richardfort</td>\n",
       "      <td>38</td>\n",
       "      <td>Urban</td>\n",
       "      <td>2019-02-16 13:52:19</td>\n",
       "      <td>17.92</td>\n",
       "      <td>820639054416</td>\n",
       "    </tr>\n",
       "    <tr>\n",
       "      <th>3</th>\n",
       "      <td>Richardfort</td>\n",
       "      <td>38</td>\n",
       "      <td>Urban</td>\n",
       "      <td>2019-02-01 20:18:28</td>\n",
       "      <td>10.26</td>\n",
       "      <td>9554935945413</td>\n",
       "    </tr>\n",
       "    <tr>\n",
       "      <th>4</th>\n",
       "      <td>Richardfort</td>\n",
       "      <td>38</td>\n",
       "      <td>Urban</td>\n",
       "      <td>2019-04-17 02:26:37</td>\n",
       "      <td>23.00</td>\n",
       "      <td>720020655850</td>\n",
       "    </tr>\n",
       "  </tbody>\n",
       "</table>\n",
       "</div>"
      ],
      "text/plain": [
       "          city  driver_count   type                 date   fare        ride_id\n",
       "0  Richardfort            38  Urban  2019-02-24 08:40:38  13.93  5628545007794\n",
       "1  Richardfort            38  Urban  2019-02-13 12:46:07  14.00   910050116494\n",
       "2  Richardfort            38  Urban  2019-02-16 13:52:19  17.92   820639054416\n",
       "3  Richardfort            38  Urban  2019-02-01 20:18:28  10.26  9554935945413\n",
       "4  Richardfort            38  Urban  2019-04-17 02:26:37  23.00   720020655850"
      ]
     },
     "execution_count": 86,
     "metadata": {},
     "output_type": "execute_result"
    }
   ],
   "source": [
    "# Create the DataFrames for each city\n",
    "urban_cities_df = pyber_data_df[pyber_data_df[\"type\"] == \"Urban\"]\n",
    "urban_cities_df.head()"
   ]
  },
  {
   "cell_type": "code",
   "execution_count": 87,
   "id": "170371cc",
   "metadata": {},
   "outputs": [
    {
     "data": {
      "text/html": [
       "<div>\n",
       "<style scoped>\n",
       "    .dataframe tbody tr th:only-of-type {\n",
       "        vertical-align: middle;\n",
       "    }\n",
       "\n",
       "    .dataframe tbody tr th {\n",
       "        vertical-align: top;\n",
       "    }\n",
       "\n",
       "    .dataframe thead th {\n",
       "        text-align: right;\n",
       "    }\n",
       "</style>\n",
       "<table border=\"1\" class=\"dataframe\">\n",
       "  <thead>\n",
       "    <tr style=\"text-align: right;\">\n",
       "      <th></th>\n",
       "      <th>city</th>\n",
       "      <th>driver_count</th>\n",
       "      <th>type</th>\n",
       "      <th>date</th>\n",
       "      <th>fare</th>\n",
       "      <th>ride_id</th>\n",
       "    </tr>\n",
       "  </thead>\n",
       "  <tbody>\n",
       "    <tr>\n",
       "      <th>1625</th>\n",
       "      <td>Port Shane</td>\n",
       "      <td>7</td>\n",
       "      <td>Suburban</td>\n",
       "      <td>2019-04-09 15:34:40</td>\n",
       "      <td>27.66</td>\n",
       "      <td>4022340141966</td>\n",
       "    </tr>\n",
       "    <tr>\n",
       "      <th>1626</th>\n",
       "      <td>Port Shane</td>\n",
       "      <td>7</td>\n",
       "      <td>Suburban</td>\n",
       "      <td>2019-04-23 16:05:47</td>\n",
       "      <td>42.26</td>\n",
       "      <td>8341982666719</td>\n",
       "    </tr>\n",
       "    <tr>\n",
       "      <th>1627</th>\n",
       "      <td>Port Shane</td>\n",
       "      <td>7</td>\n",
       "      <td>Suburban</td>\n",
       "      <td>2019-03-02 12:06:00</td>\n",
       "      <td>14.95</td>\n",
       "      <td>2803204948363</td>\n",
       "    </tr>\n",
       "    <tr>\n",
       "      <th>1628</th>\n",
       "      <td>Port Shane</td>\n",
       "      <td>7</td>\n",
       "      <td>Suburban</td>\n",
       "      <td>2019-03-26 04:33:30</td>\n",
       "      <td>19.03</td>\n",
       "      <td>6010401984537</td>\n",
       "    </tr>\n",
       "    <tr>\n",
       "      <th>1629</th>\n",
       "      <td>Port Shane</td>\n",
       "      <td>7</td>\n",
       "      <td>Suburban</td>\n",
       "      <td>2019-03-15 12:09:42</td>\n",
       "      <td>31.58</td>\n",
       "      <td>2552978514662</td>\n",
       "    </tr>\n",
       "  </tbody>\n",
       "</table>\n",
       "</div>"
      ],
      "text/plain": [
       "            city  driver_count      type                 date   fare  \\\n",
       "1625  Port Shane             7  Suburban  2019-04-09 15:34:40  27.66   \n",
       "1626  Port Shane             7  Suburban  2019-04-23 16:05:47  42.26   \n",
       "1627  Port Shane             7  Suburban  2019-03-02 12:06:00  14.95   \n",
       "1628  Port Shane             7  Suburban  2019-03-26 04:33:30  19.03   \n",
       "1629  Port Shane             7  Suburban  2019-03-15 12:09:42  31.58   \n",
       "\n",
       "            ride_id  \n",
       "1625  4022340141966  \n",
       "1626  8341982666719  \n",
       "1627  2803204948363  \n",
       "1628  6010401984537  \n",
       "1629  2552978514662  "
      ]
     },
     "execution_count": 87,
     "metadata": {},
     "output_type": "execute_result"
    }
   ],
   "source": [
    "suburban_cities_df = pyber_data_df[pyber_data_df[\"type\"] == \"Suburban\"]\n",
    "suburban_cities_df.head()"
   ]
  },
  {
   "cell_type": "code",
   "execution_count": 88,
   "id": "e8760973",
   "metadata": {},
   "outputs": [
    {
     "data": {
      "text/html": [
       "<div>\n",
       "<style scoped>\n",
       "    .dataframe tbody tr th:only-of-type {\n",
       "        vertical-align: middle;\n",
       "    }\n",
       "\n",
       "    .dataframe tbody tr th {\n",
       "        vertical-align: top;\n",
       "    }\n",
       "\n",
       "    .dataframe thead th {\n",
       "        text-align: right;\n",
       "    }\n",
       "</style>\n",
       "<table border=\"1\" class=\"dataframe\">\n",
       "  <thead>\n",
       "    <tr style=\"text-align: right;\">\n",
       "      <th></th>\n",
       "      <th>city</th>\n",
       "      <th>driver_count</th>\n",
       "      <th>type</th>\n",
       "      <th>date</th>\n",
       "      <th>fare</th>\n",
       "      <th>ride_id</th>\n",
       "    </tr>\n",
       "  </thead>\n",
       "  <tbody>\n",
       "    <tr>\n",
       "      <th>2250</th>\n",
       "      <td>South Jennifer</td>\n",
       "      <td>7</td>\n",
       "      <td>Rural</td>\n",
       "      <td>2019-04-01 09:32:45</td>\n",
       "      <td>21.63</td>\n",
       "      <td>9135979586871</td>\n",
       "    </tr>\n",
       "    <tr>\n",
       "      <th>2251</th>\n",
       "      <td>South Jennifer</td>\n",
       "      <td>7</td>\n",
       "      <td>Rural</td>\n",
       "      <td>2019-03-07 19:10:13</td>\n",
       "      <td>48.79</td>\n",
       "      <td>9730627367446</td>\n",
       "    </tr>\n",
       "    <tr>\n",
       "      <th>2252</th>\n",
       "      <td>South Jennifer</td>\n",
       "      <td>7</td>\n",
       "      <td>Rural</td>\n",
       "      <td>2019-04-05 14:35:42</td>\n",
       "      <td>32.20</td>\n",
       "      <td>683983658392</td>\n",
       "    </tr>\n",
       "    <tr>\n",
       "      <th>2253</th>\n",
       "      <td>South Jennifer</td>\n",
       "      <td>7</td>\n",
       "      <td>Rural</td>\n",
       "      <td>2019-04-02 10:26:50</td>\n",
       "      <td>14.11</td>\n",
       "      <td>3828267773041</td>\n",
       "    </tr>\n",
       "    <tr>\n",
       "      <th>2254</th>\n",
       "      <td>South Jennifer</td>\n",
       "      <td>7</td>\n",
       "      <td>Rural</td>\n",
       "      <td>2019-04-10 20:46:11</td>\n",
       "      <td>43.25</td>\n",
       "      <td>623928772332</td>\n",
       "    </tr>\n",
       "  </tbody>\n",
       "</table>\n",
       "</div>"
      ],
      "text/plain": [
       "                city  driver_count   type                 date   fare  \\\n",
       "2250  South Jennifer             7  Rural  2019-04-01 09:32:45  21.63   \n",
       "2251  South Jennifer             7  Rural  2019-03-07 19:10:13  48.79   \n",
       "2252  South Jennifer             7  Rural  2019-04-05 14:35:42  32.20   \n",
       "2253  South Jennifer             7  Rural  2019-04-02 10:26:50  14.11   \n",
       "2254  South Jennifer             7  Rural  2019-04-10 20:46:11  43.25   \n",
       "\n",
       "            ride_id  \n",
       "2250  9135979586871  \n",
       "2251  9730627367446  \n",
       "2252   683983658392  \n",
       "2253  3828267773041  \n",
       "2254   623928772332  "
      ]
     },
     "execution_count": 88,
     "metadata": {},
     "output_type": "execute_result"
    }
   ],
   "source": [
    "rural_cities_df = pyber_data_df[pyber_data_df[\"type\"] == \"Rural\"]\n",
    "rural_cities_df.head()"
   ]
  },
  {
   "cell_type": "code",
   "execution_count": 89,
   "id": "af6ddb58",
   "metadata": {},
   "outputs": [
    {
     "data": {
      "text/plain": [
       "city\n",
       "Amandaburgh            18\n",
       "Barajasview            22\n",
       "Carriemouth            27\n",
       "Christopherfurt        27\n",
       "Deanville              19\n",
       "                       ..\n",
       "West Patrickchester    16\n",
       "West Robert            31\n",
       "West Samuelburgh       25\n",
       "Williamsstad           23\n",
       "Williamsview           20\n",
       "Name: ride_id, Length: 66, dtype: int64"
      ]
     },
     "execution_count": 89,
     "metadata": {},
     "output_type": "execute_result"
    }
   ],
   "source": [
    "# Number of rides for urban cities\n",
    "urban_ride_count = urban_cities_df.groupby([\"city\"]).count()[\"ride_id\"]\n",
    "urban_ride_count"
   ]
  },
  {
   "cell_type": "code",
   "execution_count": 90,
   "id": "455cb40f",
   "metadata": {},
   "outputs": [
    {
     "data": {
      "text/plain": [
       "city\n",
       "Bradshawfurt         10\n",
       "Garzaport             3\n",
       "Harringtonfort        6\n",
       "Jessicaport           6\n",
       "Lake Jamie            6\n",
       "Lake Latoyabury      11\n",
       "Michaelberg          12\n",
       "New Ryantown          6\n",
       "Newtonview            4\n",
       "North Holly           9\n",
       "North Jaime           8\n",
       "Penaborough           5\n",
       "Randallchester        5\n",
       "South Jennifer        7\n",
       "South Marychester     8\n",
       "South Saramouth       4\n",
       "Taylorhaven           6\n",
       "West Heather          9\n",
       "Name: ride_id, dtype: int64"
      ]
     },
     "execution_count": 90,
     "metadata": {},
     "output_type": "execute_result"
    }
   ],
   "source": [
    "rural_ride_count = rural_cities_df.groupby([\"city\"]).count()[\"ride_id\"]\n",
    "rural_ride_count"
   ]
  },
  {
   "cell_type": "code",
   "execution_count": 91,
   "id": "7cd29fa3",
   "metadata": {},
   "outputs": [
    {
     "data": {
      "text/plain": [
       "city\n",
       "Barronchester         16\n",
       "Bethanyland           18\n",
       "Brandonfort           19\n",
       "Colemanland           22\n",
       "Davidfurt             17\n",
       "East Aaronbury         9\n",
       "East Danielview       17\n",
       "East Kentstad         13\n",
       "East Marymouth        27\n",
       "Grayville             15\n",
       "Josephside            27\n",
       "Lake Ann              12\n",
       "Lake Omar             14\n",
       "Lake Robertside       25\n",
       "Lake Scott            18\n",
       "Lewishaven            12\n",
       "Lewisland             17\n",
       "Mezachester           17\n",
       "Myersshire            16\n",
       "New Olivia            17\n",
       "New Raymond           22\n",
       "New Shannonberg       17\n",
       "Nicolechester         19\n",
       "North Jeffrey         13\n",
       "North Richardhaven    14\n",
       "North Timothy         15\n",
       "Port Shane            19\n",
       "Rodriguezview         15\n",
       "Sotoville             11\n",
       "South Brenda          24\n",
       "South Teresa          22\n",
       "Veronicaberg          17\n",
       "Victoriaport          14\n",
       "West Hannah           21\n",
       "West Kimmouth         20\n",
       "Williamsonville       14\n",
       "Name: ride_id, dtype: int64"
      ]
     },
     "execution_count": 91,
     "metadata": {},
     "output_type": "execute_result"
    }
   ],
   "source": [
    "suburban_ride_count = suburban_cities_df.groupby([\"city\"]).count()[\"ride_id\"]\n",
    "suburban_ride_count"
   ]
  },
  {
   "cell_type": "code",
   "execution_count": 92,
   "id": "d4ba71f2",
   "metadata": {},
   "outputs": [
    {
     "data": {
      "text/plain": [
       "city\n",
       "Amandaburgh        24.641667\n",
       "Barajasview        25.332273\n",
       "Carriemouth        28.314444\n",
       "Christopherfurt    24.501852\n",
       "Deanville          25.842632\n",
       "Name: fare, dtype: float64"
      ]
     },
     "execution_count": 92,
     "metadata": {},
     "output_type": "execute_result"
    }
   ],
   "source": [
    "# average fare for each city \n",
    "urban_avg_fare = urban_cities_df.groupby([\"city\"]).mean()[\"fare\"]\n",
    "urban_avg_fare.head()"
   ]
  },
  {
   "cell_type": "code",
   "execution_count": 93,
   "id": "9b131d43",
   "metadata": {},
   "outputs": [
    {
     "data": {
      "text/plain": [
       "city\n",
       "Bradshawfurt      40.064000\n",
       "Garzaport         24.123333\n",
       "Harringtonfort    33.470000\n",
       "Jessicaport       36.013333\n",
       "Lake Jamie        34.358333\n",
       "Name: fare, dtype: float64"
      ]
     },
     "execution_count": 93,
     "metadata": {},
     "output_type": "execute_result"
    }
   ],
   "source": [
    "rural_avg_fare = rural_cities_df.groupby([\"city\"]).mean()[\"fare\"]\n",
    "rural_avg_fare.head()"
   ]
  },
  {
   "cell_type": "code",
   "execution_count": 94,
   "id": "e2622856",
   "metadata": {},
   "outputs": [
    {
     "data": {
      "text/plain": [
       "city\n",
       "Barronchester    36.422500\n",
       "Bethanyland      32.956111\n",
       "Brandonfort      35.437368\n",
       "Colemanland      30.894545\n",
       "Davidfurt        31.995882\n",
       "Name: fare, dtype: float64"
      ]
     },
     "execution_count": 94,
     "metadata": {},
     "output_type": "execute_result"
    }
   ],
   "source": [
    "suburban_avg_fare = suburban_cities_df.groupby([\"city\"]).mean()[\"fare\"]\n",
    "suburban_avg_fare.head()"
   ]
  },
  {
   "cell_type": "code",
   "execution_count": 100,
   "id": "2eb122ec",
   "metadata": {},
   "outputs": [
    {
     "data": {
      "text/plain": [
       "city\n",
       "Amandaburgh        12.0\n",
       "Barajasview        26.0\n",
       "Carriemouth        52.0\n",
       "Christopherfurt    41.0\n",
       "Deanville          49.0\n",
       "Name: driver_count, dtype: float64"
      ]
     },
     "execution_count": 100,
     "metadata": {},
     "output_type": "execute_result"
    }
   ],
   "source": [
    "# average number of drivers\n",
    "urban_driver_count = urban_cities_df.groupby([\"city\"]).mean()[\"driver_count\"]\n",
    "urban_driver_count.head()"
   ]
  },
  {
   "cell_type": "code",
   "execution_count": 101,
   "id": "1c1ecb6a",
   "metadata": {},
   "outputs": [
    {
     "data": {
      "text/plain": [
       "city\n",
       "Bradshawfurt      7.0\n",
       "Garzaport         7.0\n",
       "Harringtonfort    4.0\n",
       "Jessicaport       1.0\n",
       "Lake Jamie        4.0\n",
       "Name: driver_count, dtype: float64"
      ]
     },
     "execution_count": 101,
     "metadata": {},
     "output_type": "execute_result"
    }
   ],
   "source": [
    "rural_driver_count = rural_cities_df.groupby([\"city\"]).mean()[\"driver_count\"]\n",
    "rural_driver_count.head()"
   ]
  },
  {
   "cell_type": "code",
   "execution_count": 102,
   "id": "bce37ac9",
   "metadata": {},
   "outputs": [
    {
     "data": {
      "text/plain": [
       "city\n",
       "Barronchester    11.0\n",
       "Bethanyland      22.0\n",
       "Brandonfort      10.0\n",
       "Colemanland      23.0\n",
       "Davidfurt        23.0\n",
       "Name: driver_count, dtype: float64"
      ]
     },
     "execution_count": 102,
     "metadata": {},
     "output_type": "execute_result"
    }
   ],
   "source": [
    "suburban_driver_count = suburban_cities_df.groupby([\"city\"]).mean()[\"driver_count\"]\n",
    "suburban_driver_count.head()"
   ]
  },
  {
   "cell_type": "code",
   "execution_count": 123,
   "id": "010f5879",
   "metadata": {},
   "outputs": [
    {
     "data": {
      "text/plain": [
       "<matplotlib.legend.Legend at 0x7fe248f96760>"
      ]
     },
     "execution_count": 123,
     "metadata": {},
     "output_type": "execute_result"
    },
    {
     "data": {
      "image/png": "[encoded data removed]",
      "text/plain": [
       "<Figure size 432x288 with 1 Axes>"
      ]
     },
     "metadata": {
      "needs_background": "light"
     },
     "output_type": "display_data"
    }
   ],
   "source": [
    "# Bubble Chart\n",
    "plt.scatter(urban_ride_count, urban_avg_fare, s = 10 * urban_drive_count,\n",
    "           c = 'coral', edgecolors = 'black',\n",
    "           linewidths = 1, label = \"Urban\")\n",
    "\n",
    "plt.title(\"PyBer Ride-Sharing Data (2019)\")\n",
    "plt.xlabel(\"Total Number of Rides (Per City)\")\n",
    "plt.ylabel(\"Average Fare($)\")\n",
    "\n",
    "plt.grid(True)\n",
    "plt.legend()"
   ]
  },
  {
   "cell_type": "code",
   "execution_count": 133,
   "id": "8ec04aa6",
   "metadata": {},
   "outputs": [
    {
     "data": {
      "text/plain": [
       "<matplotlib.legend.Legend at 0x7fe228158850>"
      ]
     },
     "execution_count": 133,
     "metadata": {},
     "output_type": "execute_result"
    },
    {
     "data": {
      "image/png": "[encoded data removed]",
      "text/plain": [
       "<Figure size 432x288 with 1 Axes>"
      ]
     },
     "metadata": {
      "needs_background": "light"
     },
     "output_type": "display_data"
    }
   ],
   "source": [
    "plt.scatter(suburban_ride_count, suburban_avg_fare, \n",
    "            s = 10 * suburban_driver_count, c = \"skyblue\", \n",
    "            edgecolors = 'black', linewidths = 1,\n",
    "            label = 'Suburban')\n",
    "\n",
    "plt.title('PyBer Ride-Sharing Data (2019)')\n",
    "plt.xlabel('Total Number of Rides (Per City)')\n",
    "plt.ylabel('Average Fare ($)')\n",
    "\n",
    "plt.grid(True)\n",
    "plt.legend()"
   ]
  },
  {
   "cell_type": "code",
   "execution_count": 134,
   "id": "e33d337b",
   "metadata": {},
   "outputs": [
    {
     "data": {
      "text/plain": [
       "<matplotlib.legend.Legend at 0x7fe1f8112a60>"
      ]
     },
     "execution_count": 134,
     "metadata": {},
     "output_type": "execute_result"
    },
    {
     "data": {
      "image/png": "[encoded data removed]",
      "text/plain": [
       "<Figure size 432x288 with 1 Axes>"
      ]
     },
     "metadata": {
      "needs_background": "light"
     },
     "output_type": "display_data"
    }
   ],
   "source": [
    "plt.scatter(rural_ride_count, rural_avg_fare, s = 10 * rural_driver_count,\n",
    "           c = 'gold', edgecolors = 'black', \n",
    "            linewidths = 1, label = 'Rural')\n",
    "\n",
    "plt.title('PyBer Ride-Sharing Data (2019)')\n",
    "plt.xlabel('Total Number of Rides (Per City)')\n",
    "plt.ylabel('Average Fare ($)')\n",
    "\n",
    "plt.grid(True)\n",
    "plt.legend()"
   ]
  },
  {
   "cell_type": "code",
   "execution_count": 150,
   "id": "8966add8",
   "metadata": {},
   "outputs": [
    {
     "data": {
      "image/png": "[encoded data removed]",
      "text/plain": [
       "<Figure size 720x432 with 1 Axes>"
      ]
     },
     "metadata": {
      "needs_background": "light"
     },
     "output_type": "display_data"
    },
    {
     "data": {
      "text/plain": [
       "<Figure size 432x288 with 0 Axes>"
      ]
     },
     "metadata": {},
     "output_type": "display_data"
    }
   ],
   "source": [
    "# Combine all the bubble charts \n",
    "plt.subplots(figsize=(10,6))\n",
    "\n",
    "plt.scatter(urban_ride_count, urban_avg_fare, s = 10 * urban_drive_count,\n",
    "           c = 'coral', edgecolors = 'black',\n",
    "           linewidths = 1, label = \"Urban\", alpha = 0.8)\n",
    "\n",
    "plt.scatter(suburban_ride_count, suburban_avg_fare, \n",
    "            s = 10 * suburban_driver_count, c = \"skyblue\", \n",
    "            edgecolors = 'black', linewidths = 1,\n",
    "            label = 'Suburban', alpha = 0.8)\n",
    "\n",
    "plt.scatter(rural_ride_count, rural_avg_fare, s = 10 * rural_driver_count,\n",
    "           c = 'gold', edgecolors = 'black', \n",
    "            linewidths = 1, label = 'Rural', alpha = 0.8)\n",
    "\n",
    "plt.title('PyBer Ride Sharing Data(2019)', fontsize=20)\n",
    "plt.xlabel('Total Number of Rides (Per City)', fontsize = 12)\n",
    "plt.ylabel('Average Fare ($)', fontsize = 12)\n",
    "\n",
    "plt.grid(True)\n",
    "\n",
    "# Create the legend\n",
    "lgnd = plt.legend(fontsize = \"12\", mode = \"Expanded\",\n",
    "                 scatterpoints = 1, loc = \"best\", title = \"City Types\")\n",
    "lgnd.legendHandles[0]._sizes = [75]\n",
    "lgnd.legendHandles[1]._sizes = [75]\n",
    "lgnd.legendHandles[2]._sizes = [75]\n",
    "lgnd.get_title().set_fontsize(12)\n",
    "\n",
    "# Text label\n",
    "plt.text(42, 35, \"Note: Circle size correlates with driver count per city.\", fontsize=\"12\")\n",
    "\n",
    "plt.show()\n",
    "\n",
    "# Save the Figure\n",
    "plt.savefig(\"analysis/Fig1.png\")"
   ]
  },
  {
   "cell_type": "code",
   "execution_count": 151,
   "id": "d920b11b",
   "metadata": {},
   "outputs": [
    {
     "data": {
      "text/html": [
       "<div>\n",
       "<style scoped>\n",
       "    .dataframe tbody tr th:only-of-type {\n",
       "        vertical-align: middle;\n",
       "    }\n",
       "\n",
       "    .dataframe tbody tr th {\n",
       "        vertical-align: top;\n",
       "    }\n",
       "\n",
       "    .dataframe thead th {\n",
       "        text-align: right;\n",
       "    }\n",
       "</style>\n",
       "<table border=\"1\" class=\"dataframe\">\n",
       "  <thead>\n",
       "    <tr style=\"text-align: right;\">\n",
       "      <th></th>\n",
       "      <th>driver_count</th>\n",
       "      <th>fare</th>\n",
       "      <th>ride_id</th>\n",
       "    </tr>\n",
       "  </thead>\n",
       "  <tbody>\n",
       "    <tr>\n",
       "      <th>count</th>\n",
       "      <td>1625.000000</td>\n",
       "      <td>1625.000000</td>\n",
       "      <td>1.625000e+03</td>\n",
       "    </tr>\n",
       "    <tr>\n",
       "      <th>mean</th>\n",
       "      <td>36.678154</td>\n",
       "      <td>24.525772</td>\n",
       "      <td>4.873485e+12</td>\n",
       "    </tr>\n",
       "    <tr>\n",
       "      <th>std</th>\n",
       "      <td>20.075545</td>\n",
       "      <td>11.738649</td>\n",
       "      <td>2.907440e+12</td>\n",
       "    </tr>\n",
       "    <tr>\n",
       "      <th>min</th>\n",
       "      <td>3.000000</td>\n",
       "      <td>4.050000</td>\n",
       "      <td>1.458810e+10</td>\n",
       "    </tr>\n",
       "    <tr>\n",
       "      <th>25%</th>\n",
       "      <td>22.000000</td>\n",
       "      <td>14.550000</td>\n",
       "      <td>2.400244e+12</td>\n",
       "    </tr>\n",
       "    <tr>\n",
       "      <th>50%</th>\n",
       "      <td>37.000000</td>\n",
       "      <td>24.640000</td>\n",
       "      <td>4.711188e+12</td>\n",
       "    </tr>\n",
       "    <tr>\n",
       "      <th>75%</th>\n",
       "      <td>52.000000</td>\n",
       "      <td>34.580000</td>\n",
       "      <td>7.451579e+12</td>\n",
       "    </tr>\n",
       "    <tr>\n",
       "      <th>max</th>\n",
       "      <td>73.000000</td>\n",
       "      <td>44.970000</td>\n",
       "      <td>9.991538e+12</td>\n",
       "    </tr>\n",
       "  </tbody>\n",
       "</table>\n",
       "</div>"
      ],
      "text/plain": [
       "       driver_count         fare       ride_id\n",
       "count   1625.000000  1625.000000  1.625000e+03\n",
       "mean      36.678154    24.525772  4.873485e+12\n",
       "std       20.075545    11.738649  2.907440e+12\n",
       "min        3.000000     4.050000  1.458810e+10\n",
       "25%       22.000000    14.550000  2.400244e+12\n",
       "50%       37.000000    24.640000  4.711188e+12\n",
       "75%       52.000000    34.580000  7.451579e+12\n",
       "max       73.000000    44.970000  9.991538e+12"
      ]
     },
     "execution_count": 151,
     "metadata": {},
     "output_type": "execute_result"
    }
   ],
   "source": [
    "# Summary Statistics \n",
    "urban_cities_df.describe()"
   ]
  },
  {
   "cell_type": "code",
   "execution_count": 152,
   "id": "bd68795a",
   "metadata": {},
   "outputs": [
    {
     "data": {
      "text/html": [
       "<div>\n",
       "<style scoped>\n",
       "    .dataframe tbody tr th:only-of-type {\n",
       "        vertical-align: middle;\n",
       "    }\n",
       "\n",
       "    .dataframe tbody tr th {\n",
       "        vertical-align: top;\n",
       "    }\n",
       "\n",
       "    .dataframe thead th {\n",
       "        text-align: right;\n",
       "    }\n",
       "</style>\n",
       "<table border=\"1\" class=\"dataframe\">\n",
       "  <thead>\n",
       "    <tr style=\"text-align: right;\">\n",
       "      <th></th>\n",
       "      <th>driver_count</th>\n",
       "      <th>fare</th>\n",
       "      <th>ride_id</th>\n",
       "    </tr>\n",
       "  </thead>\n",
       "  <tbody>\n",
       "    <tr>\n",
       "      <th>count</th>\n",
       "      <td>625.000000</td>\n",
       "      <td>625.000000</td>\n",
       "      <td>6.250000e+02</td>\n",
       "    </tr>\n",
       "    <tr>\n",
       "      <th>mean</th>\n",
       "      <td>13.712000</td>\n",
       "      <td>30.970128</td>\n",
       "      <td>4.971015e+12</td>\n",
       "    </tr>\n",
       "    <tr>\n",
       "      <th>std</th>\n",
       "      <td>8.042372</td>\n",
       "      <td>10.677508</td>\n",
       "      <td>2.912410e+12</td>\n",
       "    </tr>\n",
       "    <tr>\n",
       "      <th>min</th>\n",
       "      <td>1.000000</td>\n",
       "      <td>12.050000</td>\n",
       "      <td>3.218337e+08</td>\n",
       "    </tr>\n",
       "    <tr>\n",
       "      <th>25%</th>\n",
       "      <td>5.000000</td>\n",
       "      <td>21.970000</td>\n",
       "      <td>2.364253e+12</td>\n",
       "    </tr>\n",
       "    <tr>\n",
       "      <th>50%</th>\n",
       "      <td>16.000000</td>\n",
       "      <td>30.750000</td>\n",
       "      <td>5.053221e+12</td>\n",
       "    </tr>\n",
       "    <tr>\n",
       "      <th>75%</th>\n",
       "      <td>21.000000</td>\n",
       "      <td>39.830000</td>\n",
       "      <td>7.551674e+12</td>\n",
       "    </tr>\n",
       "    <tr>\n",
       "      <th>max</th>\n",
       "      <td>25.000000</td>\n",
       "      <td>49.960000</td>\n",
       "      <td>9.917744e+12</td>\n",
       "    </tr>\n",
       "  </tbody>\n",
       "</table>\n",
       "</div>"
      ],
      "text/plain": [
       "       driver_count        fare       ride_id\n",
       "count    625.000000  625.000000  6.250000e+02\n",
       "mean      13.712000   30.970128  4.971015e+12\n",
       "std        8.042372   10.677508  2.912410e+12\n",
       "min        1.000000   12.050000  3.218337e+08\n",
       "25%        5.000000   21.970000  2.364253e+12\n",
       "50%       16.000000   30.750000  5.053221e+12\n",
       "75%       21.000000   39.830000  7.551674e+12\n",
       "max       25.000000   49.960000  9.917744e+12"
      ]
     },
     "execution_count": 152,
     "metadata": {},
     "output_type": "execute_result"
    }
   ],
   "source": [
    "suburban_cities_df.describe()"
   ]
  },
  {
   "cell_type": "code",
   "execution_count": 153,
   "id": "e8ef581f",
   "metadata": {},
   "outputs": [
    {
     "data": {
      "text/html": [
       "<div>\n",
       "<style scoped>\n",
       "    .dataframe tbody tr th:only-of-type {\n",
       "        vertical-align: middle;\n",
       "    }\n",
       "\n",
       "    .dataframe tbody tr th {\n",
       "        vertical-align: top;\n",
       "    }\n",
       "\n",
       "    .dataframe thead th {\n",
       "        text-align: right;\n",
       "    }\n",
       "</style>\n",
       "<table border=\"1\" class=\"dataframe\">\n",
       "  <thead>\n",
       "    <tr style=\"text-align: right;\">\n",
       "      <th></th>\n",
       "      <th>driver_count</th>\n",
       "      <th>fare</th>\n",
       "      <th>ride_id</th>\n",
       "    </tr>\n",
       "  </thead>\n",
       "  <tbody>\n",
       "    <tr>\n",
       "      <th>count</th>\n",
       "      <td>125.000000</td>\n",
       "      <td>125.000000</td>\n",
       "      <td>1.250000e+02</td>\n",
       "    </tr>\n",
       "    <tr>\n",
       "      <th>mean</th>\n",
       "      <td>4.296000</td>\n",
       "      <td>34.623440</td>\n",
       "      <td>4.647746e+12</td>\n",
       "    </tr>\n",
       "    <tr>\n",
       "      <th>std</th>\n",
       "      <td>2.691156</td>\n",
       "      <td>14.558046</td>\n",
       "      <td>2.887834e+12</td>\n",
       "    </tr>\n",
       "    <tr>\n",
       "      <th>min</th>\n",
       "      <td>1.000000</td>\n",
       "      <td>10.110000</td>\n",
       "      <td>2.684873e+10</td>\n",
       "    </tr>\n",
       "    <tr>\n",
       "      <th>25%</th>\n",
       "      <td>1.000000</td>\n",
       "      <td>19.900000</td>\n",
       "      <td>2.275364e+12</td>\n",
       "    </tr>\n",
       "    <tr>\n",
       "      <th>50%</th>\n",
       "      <td>4.000000</td>\n",
       "      <td>37.050000</td>\n",
       "      <td>4.023962e+12</td>\n",
       "    </tr>\n",
       "    <tr>\n",
       "      <th>75%</th>\n",
       "      <td>7.000000</td>\n",
       "      <td>47.070000</td>\n",
       "      <td>7.118047e+12</td>\n",
       "    </tr>\n",
       "    <tr>\n",
       "      <th>max</th>\n",
       "      <td>9.000000</td>\n",
       "      <td>58.550000</td>\n",
       "      <td>9.990581e+12</td>\n",
       "    </tr>\n",
       "  </tbody>\n",
       "</table>\n",
       "</div>"
      ],
      "text/plain": [
       "       driver_count        fare       ride_id\n",
       "count    125.000000  125.000000  1.250000e+02\n",
       "mean       4.296000   34.623440  4.647746e+12\n",
       "std        2.691156   14.558046  2.887834e+12\n",
       "min        1.000000   10.110000  2.684873e+10\n",
       "25%        1.000000   19.900000  2.275364e+12\n",
       "50%        4.000000   37.050000  4.023962e+12\n",
       "75%        7.000000   47.070000  7.118047e+12\n",
       "max        9.000000   58.550000  9.990581e+12"
      ]
     },
     "execution_count": 153,
     "metadata": {},
     "output_type": "execute_result"
    }
   ],
   "source": [
    "rural_cities_df.describe()"
   ]
  },
  {
   "cell_type": "code",
   "execution_count": 154,
   "id": "76c7db0b",
   "metadata": {},
   "outputs": [
    {
     "data": {
      "text/plain": [
       "count    66.000000\n",
       "mean     24.621212\n",
       "std       5.408726\n",
       "min      12.000000\n",
       "25%      21.000000\n",
       "50%      24.000000\n",
       "75%      28.000000\n",
       "max      39.000000\n",
       "Name: ride_id, dtype: float64"
      ]
     },
     "execution_count": 154,
     "metadata": {},
     "output_type": "execute_result"
    }
   ],
   "source": [
    "# Ride Count\n",
    "urban_ride_count.describe()"
   ]
  },
  {
   "cell_type": "code",
   "execution_count": 155,
   "id": "160f242c",
   "metadata": {},
   "outputs": [
    {
     "data": {
      "text/plain": [
       "count    36.000000\n",
       "mean     17.361111\n",
       "std       4.323707\n",
       "min       9.000000\n",
       "25%      14.000000\n",
       "50%      17.000000\n",
       "75%      19.250000\n",
       "max      27.000000\n",
       "Name: ride_id, dtype: float64"
      ]
     },
     "execution_count": 155,
     "metadata": {},
     "output_type": "execute_result"
    }
   ],
   "source": [
    "suburban_ride_count.describe()"
   ]
  },
  {
   "cell_type": "code",
   "execution_count": 156,
   "id": "ed02f534",
   "metadata": {},
   "outputs": [
    {
     "data": {
      "text/plain": [
       "count    18.000000\n",
       "mean      6.944444\n",
       "std       2.508157\n",
       "min       3.000000\n",
       "25%       5.250000\n",
       "50%       6.000000\n",
       "75%       8.750000\n",
       "max      12.000000\n",
       "Name: ride_id, dtype: float64"
      ]
     },
     "execution_count": 156,
     "metadata": {},
     "output_type": "execute_result"
    }
   ],
   "source": [
    "rural_ride_count.describe()"
   ]
  },
  {
   "cell_type": "code",
   "execution_count": 163,
   "id": "8de8e36f",
   "metadata": {},
   "outputs": [
    {
     "data": {
      "text/plain": [
       "(24.62, 17.36, 6.94)"
      ]
     },
     "execution_count": 163,
     "metadata": {},
     "output_type": "execute_result"
    }
   ],
   "source": [
    "# Calculate the mean of the ride count for each city type\n",
    "round(urban_ride_count.mean(), 2), round(suburban_ride_count.mean(), 2), round(rural_ride_count.mean(), 2)"
   ]
  },
  {
   "cell_type": "code",
   "execution_count": 164,
   "id": "51782547",
   "metadata": {},
   "outputs": [
    {
     "data": {
      "text/plain": [
       "(24.0, 17.0, 6.0)"
      ]
     },
     "execution_count": 164,
     "metadata": {},
     "output_type": "execute_result"
    }
   ],
   "source": [
    "round(urban_ride_count.median(), 2), round(suburban_ride_count.median(), 2), round(rural_ride_count.median(), 2)"
   ]
  },
  {
   "cell_type": "code",
   "execution_count": 167,
   "id": "01da50e7",
   "metadata": {},
   "outputs": [
    {
     "data": {
      "text/plain": [
       "0    22\n",
       "1    25\n",
       "dtype: int64"
      ]
     },
     "execution_count": 167,
     "metadata": {},
     "output_type": "execute_result"
    }
   ],
   "source": [
    "urban_ride_count.mode()"
   ]
  },
  {
   "cell_type": "code",
   "execution_count": 168,
   "id": "fe226356",
   "metadata": {},
   "outputs": [
    {
     "data": {
      "text/plain": [
       "0    17\n",
       "dtype: int64"
      ]
     },
     "execution_count": 168,
     "metadata": {},
     "output_type": "execute_result"
    }
   ],
   "source": [
    "suburban_ride_count.mode()"
   ]
  },
  {
   "cell_type": "code",
   "execution_count": 169,
   "id": "e7f66de4",
   "metadata": {},
   "outputs": [
    {
     "data": {
      "text/plain": [
       "0    6\n",
       "dtype: int64"
      ]
     },
     "execution_count": 169,
     "metadata": {},
     "output_type": "execute_result"
    }
   ],
   "source": [
    "rural_ride_count.mode()"
   ]
  },
  {
   "cell_type": "code",
   "execution_count": 172,
   "id": "8a132048",
   "metadata": {},
   "outputs": [],
   "source": [
    "# Import NumPy and the stats module from SciPy (use when not in Jupyter)\n",
    "import numpy as np\n",
    "import scipy.stats as sts "
   ]
  },
  {
   "cell_type": "code",
   "execution_count": 184,
   "id": "8be4b909",
   "metadata": {},
   "outputs": [
    {
     "name": "stdout",
     "output_type": "stream",
     "text": [
      "The mean for the ride counts for urban trips is 24.62\n",
      "The median for the ride counts for urban trips is 24.0\n",
      "The mode for the ride counts for urban trips is ModeResult(mode=array([22]), count=array([7]))\n"
     ]
    }
   ],
   "source": [
    "# Measures of Central Tendency\n",
    "mean_urban_ride_count = np.mean(urban_ride_count)\n",
    "print(f\"The mean for the ride counts for urban trips is {mean_urban_ride_count:.2f}\")\n",
    "\n",
    "median_urban_ride_count = np.median(urban_ride_count)\n",
    "print(f\"The median for the ride counts for urban trips is {median_urban_ride_count}\")\n",
    "\n",
    "mode_urban_ride_count = sts.mode(urban_ride_count)\n",
    "print(f\"The mode for the ride counts for urban trips is {mode_urban_ride_count}\")"
   ]
  },
  {
   "cell_type": "code",
   "execution_count": 183,
   "id": "0369e169",
   "metadata": {},
   "outputs": [
    {
     "name": "stdout",
     "output_type": "stream",
     "text": [
      "The mean for the ride counts for suburban trips is 17.36\n",
      "The median for the ride counts for suburban trips is 17.0\n",
      "The mode for the ride counts for suburban trips is ModeResult(mode=array([17]), count=array([7]))\n"
     ]
    }
   ],
   "source": [
    "mean_suburban_ride_count = np.mean(suburban_ride_count)\n",
    "print(f\"The mean for the ride counts for suburban trips is {mean_suburban_ride_count:.2f}\")\n",
    "\n",
    "median_suburban_ride_count = np.median(suburban_ride_count)\n",
    "print(f\"The median for the ride counts for suburban trips is {median_suburban_ride_count}\")\n",
    "\n",
    "mode_suburban_ride_count = sts.mode(suburban_ride_count)\n",
    "print(f\"The mode for the ride counts for suburban trips is {mode_suburban_ride_count}\")"
   ]
  },
  {
   "cell_type": "code",
   "execution_count": 182,
   "id": "fa8c2044",
   "metadata": {},
   "outputs": [
    {
     "name": "stdout",
     "output_type": "stream",
     "text": [
      "The mean for the ride counts for rural trips is 6.94\n",
      "The median for the ride counts for rural trips is 6.0\n",
      "The mode for the ride counts for rural trips is ModeResult(mode=array([6]), count=array([5]))\n"
     ]
    }
   ],
   "source": [
    "mean_rural_ride_count = np.mean(rural_ride_count)\n",
    "print(f\"The mean for the ride counts for rural trips is {mean_rural_ride_count:.2f}\")\n",
    "\n",
    "median_rural_ride_count = np.median(rural_ride_count)\n",
    "print(f\"The median for the ride counts for rural trips is {median_rural_ride_count}\")\n",
    "\n",
    "mode_rural_ride_count = sts.mode(rural_ride_count)\n",
    "print(f\"The mode for the ride counts for rural trips is {mode_rural_ride_count}\")"
   ]
  },
  {
   "cell_type": "code",
   "execution_count": 177,
   "id": "717b7588",
   "metadata": {},
   "outputs": [
    {
     "data": {
      "text/plain": [
       "0    13.93\n",
       "1    14.00\n",
       "2    17.92\n",
       "3    10.26\n",
       "4    23.00\n",
       "Name: fare, dtype: float64"
      ]
     },
     "execution_count": 177,
     "metadata": {},
     "output_type": "execute_result"
    }
   ],
   "source": [
    "# Get the fares for the urban cities\n",
    "urban_fares = urban_cities_df[\"fare\"]\n",
    "urban_fares.head()"
   ]
  },
  {
   "cell_type": "code",
   "execution_count": 197,
   "id": "f99f2ab2",
   "metadata": {},
   "outputs": [
    {
     "name": "stdout",
     "output_type": "stream",
     "text": [
      "The mean fare price for urban trips is $24.53\n",
      "The median fare price for urban trips is $24.64\n",
      "The mode fare price for urban trips is $ModeResult(mode=array([22.86]), count=array([5]))\n"
     ]
    }
   ],
   "source": [
    "mean_urban_fares = np.mean(urban_fares)\n",
    "print(f\"The mean fare price for urban trips is ${mean_urban_fares:.2f}\")\n",
    "\n",
    "median_urban_fares = np.median(urban_fares)\n",
    "print(f\"The median fare price for urban trips is ${median_urban_fares:.2f}\")\n",
    "\n",
    "mode_urban_fares = sts.mode(urban_fares)\n",
    "print(f\"The mode fare price for urban trips is ${mode_urban_fares}\")"
   ]
  },
  {
   "cell_type": "code",
   "execution_count": 198,
   "id": "06c4ea26",
   "metadata": {},
   "outputs": [
    {
     "data": {
      "text/plain": [
       "1625    27.66\n",
       "1626    42.26\n",
       "1627    14.95\n",
       "1628    19.03\n",
       "1629    31.58\n",
       "Name: fare, dtype: float64"
      ]
     },
     "execution_count": 198,
     "metadata": {},
     "output_type": "execute_result"
    }
   ],
   "source": [
    "suburban_fares = suburban_cities_df[\"fare\"]\n",
    "suburban_fares.head()"
   ]
  },
  {
   "cell_type": "code",
   "execution_count": 199,
   "id": "58193c78",
   "metadata": {},
   "outputs": [
    {
     "name": "stdout",
     "output_type": "stream",
     "text": [
      "The mean fare price for suburban trips is $30.97\n",
      "The median fare price for suburban trips is $30.75\n",
      "The mode fare price for suburban trips is $ModeResult(mode=array([17.99]), count=array([3]))\n"
     ]
    }
   ],
   "source": [
    "mean_suburban_fares = np.mean(suburban_fares)\n",
    "print(f\"The mean fare price for suburban trips is ${mean_suburban_fares:.2f}\")\n",
    "\n",
    "median_suburban_fares = np.median(suburban_fares)\n",
    "print(f\"The median fare price for suburban trips is ${median_suburban_fares:.2f}\")\n",
    "\n",
    "mode_suburban_fares = sts.mode(suburban_fares)\n",
    "print(f\"The mode fare price for suburban trips is ${mode_suburban_fares}\")"
   ]
  },
  {
   "cell_type": "code",
   "execution_count": 200,
   "id": "17709f74",
   "metadata": {},
   "outputs": [
    {
     "data": {
      "text/plain": [
       "2250    21.63\n",
       "2251    48.79\n",
       "2252    32.20\n",
       "2253    14.11\n",
       "2254    43.25\n",
       "Name: fare, dtype: float64"
      ]
     },
     "execution_count": 200,
     "metadata": {},
     "output_type": "execute_result"
    }
   ],
   "source": [
    "rural_fares = rural_cities_df[\"fare\"]\n",
    "rural_fares.head()"
   ]
  },
  {
   "cell_type": "code",
   "execution_count": 201,
   "id": "768c7e8a",
   "metadata": {},
   "outputs": [
    {
     "name": "stdout",
     "output_type": "stream",
     "text": [
      "The mean fare price for rural trips is $34.62\n",
      "The median fare price for rural trips is $37.05\n",
      "The mode fare price for rural trips is $ModeResult(mode=array([37.05]), count=array([2]))\n"
     ]
    }
   ],
   "source": [
    "mean_rural_fares = np.mean(rural_fares)\n",
    "print(f\"The mean fare price for rural trips is ${mean_rural_fares:.2f}\")\n",
    "\n",
    "median_rural_fares = np.median(rural_fares)\n",
    "print(f\"The median fare price for rural trips is ${median_rural_fares:.2f}\")\n",
    "\n",
    "mode_rural_fares = sts.mode(rural_fares)\n",
    "print(f\"The mode fare price for rural trips is ${mode_rural_fares}\")"
   ]
  },
  {
   "cell_type": "code",
   "execution_count": 202,
   "id": "c483abd4",
   "metadata": {},
   "outputs": [],
   "source": [
    "urban_drivers = urban_cities_df[\"driver_count\"]\n",
    "\n",
    "suburban_drivers = suburban_cities_df[\"driver_count\"]\n",
    "\n",
    "rural_drivers = rural_cities_df[\"driver_count\"]"
   ]
  },
  {
   "cell_type": "code",
   "execution_count": 216,
   "id": "b878906f",
   "metadata": {},
   "outputs": [
    {
     "name": "stdout",
     "output_type": "stream",
     "text": [
      "The mean fare price for urban trips is 36.68\n",
      "The median fare price for urban trips is 37.00\n",
      "The mode fare price for urban trips is ModeResult(mode=array([39]), count=array([86]))\n",
      "\n",
      "The mean fare price for suburban trips is 13.71\n",
      "The median fare price for suburban trips is 16.00\n",
      "The mode fare price for suburban trips is ModeResult(mode=array([20]), count=array([79]))\n",
      "\n",
      "The mean fare price for rural trips is 4.30\n",
      "The median fare price for rural trips is 4.00\n",
      "The mode fare price for rural trips is ModeResult(mode=array([1]), count=array([32]))\n"
     ]
    }
   ],
   "source": [
    "mean_urban_drivers = np.mean(urban_drivers)\n",
    "print(f\"The mean fare price for urban trips is {mean_urban_drivers:.2f}\")\n",
    "median_urban_drivers = np.median(urban_drivers)\n",
    "print(f\"The median fare price for urban trips is {median_urban_drivers:.2f}\")\n",
    "mode_urban_drivers = sts.mode(urban_drivers)\n",
    "print(f\"The mode fare price for urban trips is {mode_urban_drivers}\")\n",
    "print('')\n",
    "\n",
    "mean_suburban_drivers = np.mean(suburban_drivers)\n",
    "print(f\"The mean fare price for suburban trips is {mean_suburban_drivers:.2f}\")\n",
    "median_suburban_drivers = np.median(suburban_drivers)\n",
    "print(f\"The median fare price for suburban trips is {median_suburban_drivers:.2f}\")\n",
    "mode_suburban_drivers = sts.mode(suburban_drivers)\n",
    "print(f\"The mode fare price for suburban trips is {mode_suburban_drivers}\")\n",
    "print('')\n",
    "\n",
    "mean_rural_drivers = np.mean(rural_drivers)\n",
    "print(f\"The mean fare price for rural trips is {mean_rural_drivers:.2f}\")\n",
    "median_rural_drivers = np.median(rural_drivers)\n",
    "print(f\"The median fare price for rural trips is {median_rural_drivers:.2f}\")\n",
    "mode_rural_drivers = sts.mode(rural_drivers)\n",
    "print(f\"The mode fare price for rural trips is {mode_rural_drivers:}\")"
   ]
  },
  {
   "cell_type": "markdown",
   "id": "ac305a61",
   "metadata": {},
   "source": [
    "## Box and Whisker Plot: Ride Count Data "
   ]
  },
  {
   "cell_type": "code",
   "execution_count": 218,
   "id": "329ea3b9",
   "metadata": {},
   "outputs": [
    {
     "data": {
      "image/png": "[encoded data removed]",
      "text/plain": [
       "<Figure size 432x288 with 1 Axes>"
      ]
     },
     "metadata": {
      "needs_background": "light"
     },
     "output_type": "display_data"
    }
   ],
   "source": [
    "# Urban cities ride count\n",
    "x_labels = [\"Urban\"]\n",
    "fig, ax = plt.subplots()\n",
    "ax.boxplot(urban_ride_count, labels = x_labels)\n",
    "\n",
    "ax.set_title(\"Ride Count Data (2019)\")\n",
    "ax.set_ylabel(\"Number of Rides\")\n",
    "ax.set_yticks(np.arange(10, 41, step = 2.0))\n",
    "\n",
    "ax.grid()\n",
    "plt.show()"
   ]
  },
  {
   "cell_type": "code",
   "execution_count": 219,
   "id": "4b3529b8",
   "metadata": {},
   "outputs": [
    {
     "data": {
      "text/plain": [
       "count    66.000000\n",
       "mean     24.621212\n",
       "std       5.408726\n",
       "min      12.000000\n",
       "25%      21.000000\n",
       "50%      24.000000\n",
       "75%      28.000000\n",
       "max      39.000000\n",
       "Name: ride_id, dtype: float64"
      ]
     },
     "execution_count": 219,
     "metadata": {},
     "output_type": "execute_result"
    }
   ],
   "source": [
    "urban_ride_count.describe()"
   ]
  },
  {
   "cell_type": "code",
   "execution_count": 225,
   "id": "11d959ba",
   "metadata": {},
   "outputs": [
    {
     "data": {
      "image/png": "[encoded data removed]",
      "text/plain": [
       "<Figure size 432x288 with 1 Axes>"
      ]
     },
     "metadata": {
      "needs_background": "light"
     },
     "output_type": "display_data"
    }
   ],
   "source": [
    "# Suburban Cities\n",
    "x_labels = [\"Suburban\"]\n",
    "fig, ax = plt.subplots()\n",
    "\n",
    "ax.boxplot(suburban_ride_count, labels = x_labels)\n",
    "ax.set_title(\"Ride Count Data (2019)\")\n",
    "ax.set_ylabel(\"Number of Rides\")\n",
    "ax.set_yticks(np.arange(10, 30, step = 2.0))\n",
    "\n",
    "ax.grid()\n",
    "plt.show()"
   ]
  },
  {
   "cell_type": "code",
   "execution_count": 228,
   "id": "6ab1642f",
   "metadata": {},
   "outputs": [
    {
     "data": {
      "image/png": "[encoded data removed]",
      "text/plain": [
       "<Figure size 432x288 with 1 Axes>"
      ]
     },
     "metadata": {
      "needs_background": "light"
     },
     "output_type": "display_data"
    }
   ],
   "source": [
    "# Rural Cities\n",
    "x_labels = [\"Rural\"]\n",
    "fig, ax = plt.subplots()\n",
    "\n",
    "ax.boxplot(rural_ride_count, labels = x_labels)\n",
    "ax.set_title(\"Ride Count Data (2019)\")\n",
    "ax.set_ylabel(\"Number of Rides\")\n",
    "ax.set_yticks(np.arange(2, 14, step = 1.0))\n",
    "\n",
    "ax.grid()\n",
    "plt.show()"
   ]
  },
  {
   "cell_type": "code",
   "execution_count": 233,
   "id": "01194187",
   "metadata": {},
   "outputs": [
    {
     "data": {
      "image/png": "[encoded data removed]",
      "text/plain": [
       "<Figure size 720x432 with 1 Axes>"
      ]
     },
     "metadata": {
      "needs_background": "light"
     },
     "output_type": "display_data"
    },
    {
     "data": {
      "text/plain": [
       "<Figure size 432x288 with 0 Axes>"
      ]
     },
     "metadata": {},
     "output_type": "display_data"
    }
   ],
   "source": [
    "x_labels = [\"Urban\", \"Suburban\", \"Rural\"]\n",
    "ride_count_data = [urban_ride_count, suburban_ride_count, rural_ride_count]\n",
    "\n",
    "fig, ax = plt.subplots(figsize = (10, 6))\n",
    "ax.boxplot(ride_count_data, labels = x_labels)\n",
    "ax.set_title(\"Ride Count Data (2019)\", fontsize = 20)\n",
    "ax.set_ylabel(\"Number of Rides\", fontsize = 12)\n",
    "ax.set_xlabel(\"City Types\", fontsize = 12)\n",
    "\n",
    "ax.set_yticks(np.arange(0, 41, step = 2.0))\n",
    "\n",
    "ax.grid()\n",
    "plt.show()\n",
    "\n",
    "# Save the figure\n",
    "plt.savefig(\"analysis/Fig2.png\")"
   ]
  },
  {
   "cell_type": "code",
   "execution_count": 234,
   "id": "06e4246d",
   "metadata": {},
   "outputs": [
    {
     "name": "stdout",
     "output_type": "stream",
     "text": [
      "West Angela has the highest rider count.\n"
     ]
    }
   ],
   "source": [
    "# Outlier \n",
    "urban_city_outlier = urban_ride_count[urban_ride_count == 39].index[0]\n",
    "print(f\"{urban_city_outlier} has the highest rider count.\")"
   ]
  },
  {
   "cell_type": "markdown",
   "id": "b9811be2",
   "metadata": {},
   "source": [
    "## Box and Whisker Plots: Ride Fare Data "
   ]
  },
  {
   "cell_type": "code",
   "execution_count": 235,
   "id": "ee95b594",
   "metadata": {},
   "outputs": [
    {
     "data": {
      "image/png": "[encoded data removed]",
      "text/plain": [
       "<Figure size 432x288 with 1 Axes>"
      ]
     },
     "metadata": {
      "needs_background": "light"
     },
     "output_type": "display_data"
    },
    {
     "name": "stdout",
     "output_type": "stream",
     "text": [
      "Summary Statistics\n"
     ]
    },
    {
     "data": {
      "text/plain": [
       "count    1625.000000\n",
       "mean       24.525772\n",
       "std        11.738649\n",
       "min         4.050000\n",
       "25%        14.550000\n",
       "50%        24.640000\n",
       "75%        34.580000\n",
       "max        44.970000\n",
       "Name: fare, dtype: float64"
      ]
     },
     "execution_count": 235,
     "metadata": {},
     "output_type": "execute_result"
    }
   ],
   "source": [
    "# Urban Cities \n",
    "x_labels = [\"Urban\"]\n",
    "fig, ax = plt.subplots()\n",
    "\n",
    "ax.boxplot(urban_fares, labels = x_labels)\n",
    "\n",
    "ax.set_title(\"Ride Fare Data (2019)\")\n",
    "ax.set_ylabel(\"Fare $(USD)\")\n",
    "ax.set_yticks(np.arange(0, 51, step = 5.0))\n",
    "\n",
    "ax.grid()\n",
    "plt.show()\n",
    "\n",
    "print(\"Summary Statistics\")\n",
    "urban_fares.describe()"
   ]
  },
  {
   "cell_type": "code",
   "execution_count": 240,
   "id": "cfda60ac",
   "metadata": {},
   "outputs": [
    {
     "data": {
      "image/png": "[encoded data removed]",
      "text/plain": [
       "<Figure size 432x288 with 1 Axes>"
      ]
     },
     "metadata": {
      "needs_background": "light"
     },
     "output_type": "display_data"
    },
    {
     "name": "stdout",
     "output_type": "stream",
     "text": [
      "Summary Statistics\n"
     ]
    },
    {
     "data": {
      "text/plain": [
       "count    625.000000\n",
       "mean      30.970128\n",
       "std       10.677508\n",
       "min       12.050000\n",
       "25%       21.970000\n",
       "50%       30.750000\n",
       "75%       39.830000\n",
       "max       49.960000\n",
       "Name: fare, dtype: float64"
      ]
     },
     "execution_count": 240,
     "metadata": {},
     "output_type": "execute_result"
    }
   ],
   "source": [
    "# Suburban Cities\n",
    "x_labels = [\"Suburban\"]\n",
    "fig, ax = plt.subplots()\n",
    "\n",
    "ax.boxplot(suburban_fares, labels = x_labels)\n",
    "ax.set_title(\"Ride Fare Data (2019)\")\n",
    "ax.set_ylabel(\"Fares $(USD)\")\n",
    "ax.set_yticks(np.arange(5, 60, step = 5.0))\n",
    "\n",
    "ax.grid()\n",
    "plt.show()\n",
    "\n",
    "print(\"Summary Statistics\")\n",
    "suburban_fares.describe()"
   ]
  },
  {
   "cell_type": "code",
   "execution_count": 242,
   "id": "efb9366b",
   "metadata": {},
   "outputs": [
    {
     "data": {
      "image/png": "[encoded data removed]",
      "text/plain": [
       "<Figure size 432x288 with 1 Axes>"
      ]
     },
     "metadata": {
      "needs_background": "light"
     },
     "output_type": "display_data"
    },
    {
     "name": "stdout",
     "output_type": "stream",
     "text": [
      "Summary Statistics\n"
     ]
    },
    {
     "data": {
      "text/plain": [
       "count    125.000000\n",
       "mean      34.623440\n",
       "std       14.558046\n",
       "min       10.110000\n",
       "25%       19.900000\n",
       "50%       37.050000\n",
       "75%       47.070000\n",
       "max       58.550000\n",
       "Name: fare, dtype: float64"
      ]
     },
     "execution_count": 242,
     "metadata": {},
     "output_type": "execute_result"
    }
   ],
   "source": [
    "# Rural Cities\n",
    "x_labels = [\"Rural\"]\n",
    "fig, ax = plt.subplots()\n",
    "\n",
    "ax.boxplot(rural_fares, labels = x_labels)\n",
    "ax.set_title(\"Ride Fare Data (2019)\")\n",
    "ax.set_ylabel(\"Fares $(USD)\")\n",
    "ax.set_yticks(np.arange(5, 70, step = 5.0))\n",
    "\n",
    "ax.grid()\n",
    "plt.show()\n",
    "\n",
    "print(\"Summary Statistics\")\n",
    "rural_fares.describe()"
   ]
  },
  {
   "cell_type": "code",
   "execution_count": 246,
   "id": "5d20e3ea",
   "metadata": {},
   "outputs": [
    {
     "data": {
      "image/png": "[encoded data removed]",
      "text/plain": [
       "<Figure size 432x288 with 1 Axes>"
      ]
     },
     "metadata": {
      "needs_background": "light"
     },
     "output_type": "display_data"
    },
    {
     "data": {
      "text/plain": [
       "<Figure size 432x288 with 0 Axes>"
      ]
     },
     "metadata": {},
     "output_type": "display_data"
    }
   ],
   "source": [
    "# Combine\n",
    "x_labels = [\"Urban\", \"Suburban\", \"Rural\"]\n",
    "fare_count = [urban_fares, suburban_fares, rural_fares]\n",
    "\n",
    "fig, ax = plt.subplots()\n",
    "ax.boxplot(fare_count, labels = x_labels)\n",
    "\n",
    "ax.set_title(\"Ride Fare Data(2019)\")\n",
    "ax.set_ylabel(\"Fare $(USD)\")\n",
    "ax.set_yticks(np.arange(0, 70, step = 5.0))\n",
    "\n",
    "ax.grid()\n",
    "plt.show()\n",
    "\n",
    "plt.savefig(\"analysis/Fig3.png\")"
   ]
  },
  {
   "cell_type": "markdown",
   "id": "aee7d27b",
   "metadata": {},
   "source": [
    "## Box and Whisker Plots: Driver Count Data "
   ]
  },
  {
   "cell_type": "code",
   "execution_count": 259,
   "id": "29598660",
   "metadata": {},
   "outputs": [
    {
     "data": {
      "image/png": "[encoded data removed]",
      "text/plain": [
       "<Figure size 432x288 with 1 Axes>"
      ]
     },
     "metadata": {
      "needs_background": "light"
     },
     "output_type": "display_data"
    },
    {
     "name": "stdout",
     "output_type": "stream",
     "text": [
      "Summary Statistics\n"
     ]
    },
    {
     "data": {
      "text/plain": [
       "count    1625.000000\n",
       "mean       36.678154\n",
       "std        20.075545\n",
       "min         3.000000\n",
       "25%        22.000000\n",
       "50%        37.000000\n",
       "75%        52.000000\n",
       "max        73.000000\n",
       "Name: driver_count, dtype: float64"
      ]
     },
     "execution_count": 259,
     "metadata": {},
     "output_type": "execute_result"
    }
   ],
   "source": [
    "# Urban\n",
    "x_labels = [\"Urban\"]\n",
    "fig, ax = plt.subplots()\n",
    "\n",
    "ax.boxplot(urban_drivers, labels = x_labels)\n",
    "ax.set_title(\"Driver Count Data (2019)\")\n",
    "ax.set_ylabel(\"Number of Drivers\")\n",
    "ax.set_yticks(np.arange(0, 90, step = 5.0))\n",
    "\n",
    "ax.grid()\n",
    "plt.show()\n",
    "\n",
    "print(\"Summary Statistics\")\n",
    "urban_drivers.describe()"
   ]
  },
  {
   "cell_type": "code",
   "execution_count": 262,
   "id": "88c74049",
   "metadata": {},
   "outputs": [
    {
     "data": {
      "image/png": "[encoded data removed]",
      "text/plain": [
       "<Figure size 432x288 with 1 Axes>"
      ]
     },
     "metadata": {
      "needs_background": "light"
     },
     "output_type": "display_data"
    },
    {
     "name": "stdout",
     "output_type": "stream",
     "text": [
      "Summary Statistics\n"
     ]
    },
    {
     "data": {
      "text/plain": [
       "count    625.000000\n",
       "mean      13.712000\n",
       "std        8.042372\n",
       "min        1.000000\n",
       "25%        5.000000\n",
       "50%       16.000000\n",
       "75%       21.000000\n",
       "max       25.000000\n",
       "Name: driver_count, dtype: float64"
      ]
     },
     "execution_count": 262,
     "metadata": {},
     "output_type": "execute_result"
    }
   ],
   "source": [
    "# Suburban\n",
    "x_labels = [\"Suburban\"]\n",
    "fig, ax = plt.subplots()\n",
    "\n",
    "ax.boxplot(suburban_drivers, labels = x_labels)\n",
    "ax.set_title(\"Driver Count Data (2019)\")\n",
    "ax.set_ylabel(\"Number of Drivers\")\n",
    "ax.set_yticks(np.arange(0, 30, step = 2.0))\n",
    "\n",
    "ax.grid()\n",
    "plt.show()\n",
    "\n",
    "print(\"Summary Statistics\")\n",
    "suburban_drivers.describe()"
   ]
  },
  {
   "cell_type": "code",
   "execution_count": 265,
   "id": "e63de469",
   "metadata": {},
   "outputs": [
    {
     "data": {
      "image/png": "[encoded data removed]",
      "text/plain": [
       "<Figure size 432x288 with 1 Axes>"
      ]
     },
     "metadata": {
      "needs_background": "light"
     },
     "output_type": "display_data"
    },
    {
     "name": "stdout",
     "output_type": "stream",
     "text": [
      "Summary Statistics\n"
     ]
    },
    {
     "data": {
      "text/plain": [
       "count    125.000000\n",
       "mean       4.296000\n",
       "std        2.691156\n",
       "min        1.000000\n",
       "25%        1.000000\n",
       "50%        4.000000\n",
       "75%        7.000000\n",
       "max        9.000000\n",
       "Name: driver_count, dtype: float64"
      ]
     },
     "execution_count": 265,
     "metadata": {},
     "output_type": "execute_result"
    }
   ],
   "source": [
    "# Rural\n",
    "x_labels = [\"Rural\"]\n",
    "fig, ax = plt.subplots()\n",
    "\n",
    "ax.boxplot(rural_drivers, labels = x_labels)\n",
    "ax.set_title(\"Drive Count Data (2019)\")\n",
    "ax.set_ylabel(\"Number of Drivers\")\n",
    "ax.set_yticks(np.arange(0, 12, step = 1.0))\n",
    "\n",
    "ax.grid()\n",
    "plt.show()\n",
    "\n",
    "print(\"Summary Statistics\")\n",
    "rural_drivers.describe()"
   ]
  },
  {
   "cell_type": "code",
   "execution_count": 271,
   "id": "6705da9d",
   "metadata": {},
   "outputs": [
    {
     "data": {
      "image/png": "[encoded data removed]",
      "text/plain": [
       "<Figure size 720x432 with 1 Axes>"
      ]
     },
     "metadata": {
      "needs_background": "light"
     },
     "output_type": "display_data"
    }
   ],
   "source": [
    "# Combine all the plots\n",
    "x_labels = [\"Urban\", \"Suburban\", \"Rural\"]\n",
    "driver_count = [urban_drivers, suburban_drivers, rural_drivers]\n",
    "fig, ax = plt.subplots(figsize = (10, 6))\n",
    "\n",
    "ax.boxplot(driver_count, labels = x_labels)\n",
    "ax.set_title(\"Drive Count Data (2019)\")\n",
    "ax.set_ylabel(\"Number of Drivers\")\n",
    "ax.set_xlabel(\"City Types\")\n",
    "ax.set_yticks(np.arange(0, 80, step = 5.0))\n",
    "\n",
    "ax.grid()\n",
    "plt.show()"
   ]
  },
  {
   "cell_type": "markdown",
   "id": "99428f52",
   "metadata": {},
   "source": [
    "## Percentage of Fares for Each City Type"
   ]
  },
  {
   "cell_type": "code",
   "execution_count": 273,
   "id": "5434b10b",
   "metadata": {},
   "outputs": [
    {
     "data": {
      "text/plain": [
       "type\n",
       "Rural        4327.93\n",
       "Suburban    19356.33\n",
       "Urban       39854.38\n",
       "Name: fare, dtype: float64"
      ]
     },
     "execution_count": 273,
     "metadata": {},
     "output_type": "execute_result"
    }
   ],
   "source": [
    "# Sum of the fares\n",
    "sum_fares_by_type = pyber_data_df.groupby([\"type\"]).sum()[\"fare\"]\n",
    "sum_fares_by_type"
   ]
  },
  {
   "cell_type": "code",
   "execution_count": 275,
   "id": "f8eeb41b",
   "metadata": {},
   "outputs": [
    {
     "data": {
      "text/plain": [
       "63538.64"
      ]
     },
     "execution_count": 275,
     "metadata": {},
     "output_type": "execute_result"
    }
   ],
   "source": [
    "total_fares = pyber_data_df[\"fare\"].sum()\n",
    "total_fares"
   ]
  },
  {
   "cell_type": "code",
   "execution_count": 277,
   "id": "7b9e9f17",
   "metadata": {},
   "outputs": [
    {
     "data": {
      "text/plain": [
       "type\n",
       "Rural        6.811493\n",
       "Suburban    30.463872\n",
       "Urban       62.724635\n",
       "Name: fare, dtype: float64"
      ]
     },
     "execution_count": 277,
     "metadata": {},
     "output_type": "execute_result"
    }
   ],
   "source": [
    "# Calculate the percentages\n",
    "city_type_percentages = 100 * pyber_data_df.groupby([\"type\"]).sum()[\"fare\"] / total_fares\n",
    "city_type_percentages"
   ]
  },
  {
   "cell_type": "markdown",
   "id": "54e2182f",
   "metadata": {},
   "source": [
    "### Create the pie chart"
   ]
  },
  {
   "cell_type": "code",
   "execution_count": 286,
   "id": "0068893a",
   "metadata": {},
   "outputs": [],
   "source": [
    "# changing the default parameters for pie charts\n",
    "import matplotlib as mpl"
   ]
  },
  {
   "cell_type": "code",
   "execution_count": 291,
   "id": "f62fe0af",
   "metadata": {},
   "outputs": [
    {
     "data": {
      "image/png": "[encoded data removed]",
      "text/plain": [
       "<Figure size 720x432 with 1 Axes>"
      ]
     },
     "metadata": {},
     "output_type": "display_data"
    },
    {
     "data": {
      "text/plain": [
       "<Figure size 432x288 with 0 Axes>"
      ]
     },
     "metadata": {},
     "output_type": "display_data"
    }
   ],
   "source": [
    "plt.subplots(figsize = (10, 6))\n",
    "plt.pie(city_type_percentages, labels = [\"Rural\", \"Suburban\", \"Urban\"],\n",
    "       colors = [\"gold\", \"lightskyblue\", \"lightcoral\"],\n",
    "       explode = [0, 0, 0.1], autopct = '%1.1f%%', shadow = True, \n",
    "       startangle = 150)\n",
    "\n",
    "plt.title(\"% of Total Fares by City Type\")\n",
    "\n",
    "# Change the default font size from 10 to 14\n",
    "mpl.rcParams['font.size'] = 14\n",
    "\n",
    "plt.show()\n",
    "\n",
    "plt.savefig(\"analysis/Fig4.png\")"
   ]
  },
  {
   "cell_type": "markdown",
   "id": "2d54ca2a",
   "metadata": {},
   "source": [
    "## Calculate Ride Percentages "
   ]
  },
  {
   "cell_type": "code",
   "execution_count": 294,
   "id": "9df3684f",
   "metadata": {},
   "outputs": [
    {
     "data": {
      "text/plain": [
       "type\n",
       "Rural        5.263158\n",
       "Suburban    26.315789\n",
       "Urban       68.421053\n",
       "Name: ride_id, dtype: float64"
      ]
     },
     "execution_count": 294,
     "metadata": {},
     "output_type": "execute_result"
    }
   ],
   "source": [
    "ride_percents = 100 * pyber_data_df.groupby([\"type\"]).count()[\"ride_id\"] / pyber_data_df[\"ride_id\"].count()\n",
    "ride_percents"
   ]
  },
  {
   "cell_type": "markdown",
   "id": "170fffa1",
   "metadata": {},
   "source": [
    "### Create the pie chart"
   ]
  },
  {
   "cell_type": "code",
   "execution_count": 297,
   "id": "96f990a7",
   "metadata": {},
   "outputs": [
    {
     "data": {
      "image/png": "[encoded data removed]",
      "text/plain": [
       "<Figure size 720x432 with 1 Axes>"
      ]
     },
     "metadata": {},
     "output_type": "display_data"
    },
    {
     "data": {
      "text/plain": [
       "<Figure size 432x288 with 0 Axes>"
      ]
     },
     "metadata": {},
     "output_type": "display_data"
    }
   ],
   "source": [
    "plt.subplots(figsize = (10, 6))\n",
    "plt.pie(ride_percents, labels = [\"Rural\", \"Suburban\", \"Urban\"], \n",
    "       colors = [\"gold\", \"lightskyblue\", \"lightcoral\"],\n",
    "       explode = [0, 0, 0.1], autopct = \"%1.1f%%\",\n",
    "        shadow = True, startangle = 150)\n",
    "plt.title(\"% of Total Rides by City Type\")\n",
    "\n",
    "mpl.rcParams[\"font.size\"] = 14\n",
    "\n",
    "plt.show()\n",
    "\n",
    "plt.savefig(\"analysis/Fig5.png\")"
   ]
  },
  {
   "cell_type": "markdown",
   "id": "0b49d8bd",
   "metadata": {},
   "source": [
    "## Calculate Driver Percentages"
   ]
  },
  {
   "cell_type": "code",
   "execution_count": 298,
   "id": "49d8457b",
   "metadata": {},
   "outputs": [
    {
     "data": {
      "text/plain": [
       "type\n",
       "Rural        2.623613\n",
       "Suburban    16.481668\n",
       "Urban       80.894719\n",
       "Name: driver_count, dtype: float64"
      ]
     },
     "execution_count": 298,
     "metadata": {},
     "output_type": "execute_result"
    }
   ],
   "source": [
    "driver_percents = 100 * city_data_df.groupby([\"type\"]).sum()[\"driver_count\"] / city_data_df[\"driver_count\"].sum()\n",
    "driver_percents"
   ]
  },
  {
   "cell_type": "code",
   "execution_count": 303,
   "id": "a1293db3",
   "metadata": {},
   "outputs": [
    {
     "data": {
      "image/png": "[encoded data removed]",
      "text/plain": [
       "<Figure size 720x432 with 1 Axes>"
      ]
     },
     "metadata": {},
     "output_type": "display_data"
    },
    {
     "data": {
      "text/plain": [
       "<Figure size 432x288 with 0 Axes>"
      ]
     },
     "metadata": {},
     "output_type": "display_data"
    }
   ],
   "source": [
    "plt.subplots(figsize = (10, 6))\n",
    "plt.pie(driver_percents, labels = [\"Rural\", \"Suburban\", \"Urban\"],\n",
    "       colors = [\"gold\", \"lightskyblue\", \"lightcoral\"],\n",
    "       explode = [0, 0, 0.1], autopct = \"%1.1f%%\", shadow = True,\n",
    "       startangle = 165)\n",
    "\n",
    "plt.title(\"% of Total Rides by Driver\")\n",
    "mpl.rcParams[\"font.size\"] = 14\n",
    "\n",
    "plt.show()\n",
    "\n",
    "plt.savefig(\"analysis/Fig6.png\")"
   ]
  }
 ],
 "metadata": {
  "kernelspec": {
   "display_name": "Python 3 (ipykernel)",
   "language": "python",
   "name": "python3"
  },
  "language_info": {
   "codemirror_mode": {
    "name": "ipython",
    "version": 3
   },
   "file_extension": ".py",
   "mimetype": "text/x-python",
   "name": "python",
   "nbconvert_exporter": "python",
   "pygments_lexer": "ipython3",
   "version": "3.9.7"
  }
 },
 "nbformat": 4,
 "nbformat_minor": 5
}
